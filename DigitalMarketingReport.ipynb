{
 "cells": [
  {
   "cell_type": "code",
   "execution_count": 191,
   "id": "90c1f59f",
   "metadata": {},
   "outputs": [
    {
     "name": "stdout",
     "output_type": "stream",
     "text": [
      "Start Date (mm/dd/yyyy):3/1/2024\n",
      "End Date (mm/dd/yyyy):3/1/2024\n"
     ]
    }
   ],
   "source": [
    "#importing the Libraies\n",
    "import numpy as np \n",
    "import pandas as pd\n",
    "from datetime import datetime\n",
    "import marketing_utils as utils\n",
    "\n",
    "# Load the dataset \n",
    "dataset = pd.read_excel('Inputdata.xlsx', sheet_name='Sheet1', header=0)\n",
    "\n",
    "# Create an empty DataFrame with column names and data types\n",
    "schema={'Date': 'object', 'Campaign Name': 'object', 'AD Spent': 'float64','No.of Leads': 'int64',\n",
    "        'Cost Per Lead': 'float64','CTR': 'float64','Link Click': 'int64','LP Views': 'int64',\n",
    "        'Member Passed': 'float64','LP Conversion %': 'float64'}\n",
    "output_df = pd.DataFrame(columns=schema.keys()).astype(schema)\n",
    "\n",
    "# Get inputs\n",
    "start_date=input(\"Start Date (mm/dd/yyyy):\")\n",
    "end_date= input(\"End Date (mm/dd/yyyy):\")\n",
    "filtered_df = dataset.loc[(dataset['Day'] >= start_date) & (dataset['Day'] <= end_date)]\n",
    "\n",
    "# loop through the rows using iterrows() and populate the data\n",
    "dict_list = []\n",
    "\n",
    "for index, row in filtered_df.iterrows():\n",
    "    row_dict = {'Date': utils.getDay(row['Day']), 'Campaign Name': row['Campaign name'], \n",
    "                'AD Spent': row['Amount spent (INR)'],'No.of Leads': utils.getNoOfLeads(row['Results']),\n",
    "                'Cost Per Lead': getCostPerLead(row['Amount spent (INR)'],row['Results']),\n",
    "                'CTR ':  utils.getCTR(row['CTR (link click-through rate)'])+'%',\n",
    "                'Link Click': utils.getLinkClick(row['Link clicks']),'LP Views': utils.getLPViews(row['Landing page views']),\n",
    "                'Member Passed':  utils.getMemerPassed(row['Landing page views'], row['Link clicks'])+'%',\n",
    "                'LP Conversion %':  utils.getLPConversion(row['Results'],row['Landing page views'])+'%'}\n",
    "    dict_list.append(row_dict)\n",
    "\n",
    "output_df = pd.DataFrame.from_dict(dict_list)\n",
    "\n",
    "#Save the requested output in Excel\n",
    "output_df.to_excel(\"OutputFormat.xlsx\", sheet_name='Sheet_1', index=False)  "
   ]
  },
  {
   "cell_type": "code",
   "execution_count": 180,
   "id": "e90d93a2",
   "metadata": {},
   "outputs": [],
   "source": [
    "#Check data types\n",
    "#dataset.dtypes\n",
    "#Shows summary of the dataset\n",
    "#dataset.describe()"
   ]
  }
 ],
 "metadata": {
  "kernelspec": {
   "display_name": "Python 3 (ipykernel)",
   "language": "python",
   "name": "python3"
  },
  "language_info": {
   "codemirror_mode": {
    "name": "ipython",
    "version": 3
   },
   "file_extension": ".py",
   "mimetype": "text/x-python",
   "name": "python",
   "nbconvert_exporter": "python",
   "pygments_lexer": "ipython3",
   "version": "3.11.5"
  }
 },
 "nbformat": 4,
 "nbformat_minor": 5
}
